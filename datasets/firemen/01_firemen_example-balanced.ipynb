{
 "cells": [
  {
   "cell_type": "code",
   "execution_count": 1,
   "metadata": {},
   "outputs": [],
   "source": [
    "import pandas as pd\n",
    "import numpy as np"
   ]
  },
  {
   "cell_type": "markdown",
   "metadata": {},
   "source": [
    "# Train"
   ]
  },
  {
   "cell_type": "code",
   "execution_count": 2,
   "metadata": {},
   "outputs": [
    {
     "data": {
      "text/html": [
       "<div>\n",
       "<style scoped>\n",
       "    .dataframe tbody tr th:only-of-type {\n",
       "        vertical-align: middle;\n",
       "    }\n",
       "\n",
       "    .dataframe tbody tr th {\n",
       "        vertical-align: top;\n",
       "    }\n",
       "\n",
       "    .dataframe thead th {\n",
       "        text-align: right;\n",
       "    }\n",
       "</style>\n",
       "<table border=\"1\" class=\"dataframe\">\n",
       "  <thead>\n",
       "    <tr style=\"text-align: right;\">\n",
       "      <th></th>\n",
       "      <th>response</th>\n",
       "      <th>V1</th>\n",
       "      <th>V2</th>\n",
       "      <th>V3</th>\n",
       "      <th>V4</th>\n",
       "      <th>V5</th>\n",
       "      <th>V6</th>\n",
       "      <th>V7</th>\n",
       "      <th>V8</th>\n",
       "      <th>V9</th>\n",
       "      <th>V10</th>\n",
       "    </tr>\n",
       "  </thead>\n",
       "  <tbody>\n",
       "    <tr>\n",
       "      <th>0</th>\n",
       "      <td>12</td>\n",
       "      <td>0.487</td>\n",
       "      <td>0.072</td>\n",
       "      <td>0.004</td>\n",
       "      <td>0.833</td>\n",
       "      <td>0.765</td>\n",
       "      <td>0.600</td>\n",
       "      <td>0.132</td>\n",
       "      <td>0.886</td>\n",
       "      <td>0.073</td>\n",
       "      <td>0.342</td>\n",
       "    </tr>\n",
       "    <tr>\n",
       "      <th>1</th>\n",
       "      <td>8</td>\n",
       "      <td>0.223</td>\n",
       "      <td>0.401</td>\n",
       "      <td>0.659</td>\n",
       "      <td>0.528</td>\n",
       "      <td>0.843</td>\n",
       "      <td>0.713</td>\n",
       "      <td>0.580</td>\n",
       "      <td>0.473</td>\n",
       "      <td>0.572</td>\n",
       "      <td>0.528</td>\n",
       "    </tr>\n",
       "    <tr>\n",
       "      <th>2</th>\n",
       "      <td>15</td>\n",
       "      <td>0.903</td>\n",
       "      <td>0.913</td>\n",
       "      <td>0.940</td>\n",
       "      <td>0.979</td>\n",
       "      <td>0.561</td>\n",
       "      <td>0.744</td>\n",
       "      <td>0.627</td>\n",
       "      <td>0.818</td>\n",
       "      <td>0.309</td>\n",
       "      <td>0.510</td>\n",
       "    </tr>\n",
       "    <tr>\n",
       "      <th>3</th>\n",
       "      <td>13</td>\n",
       "      <td>0.791</td>\n",
       "      <td>0.857</td>\n",
       "      <td>0.359</td>\n",
       "      <td>0.844</td>\n",
       "      <td>0.155</td>\n",
       "      <td>0.948</td>\n",
       "      <td>0.114</td>\n",
       "      <td>0.292</td>\n",
       "      <td>0.412</td>\n",
       "      <td>0.991</td>\n",
       "    </tr>\n",
       "    <tr>\n",
       "      <th>4</th>\n",
       "      <td>16</td>\n",
       "      <td>0.326</td>\n",
       "      <td>0.593</td>\n",
       "      <td>0.085</td>\n",
       "      <td>0.927</td>\n",
       "      <td>0.926</td>\n",
       "      <td>0.633</td>\n",
       "      <td>0.431</td>\n",
       "      <td>0.326</td>\n",
       "      <td>0.031</td>\n",
       "      <td>0.730</td>\n",
       "    </tr>\n",
       "  </tbody>\n",
       "</table>\n",
       "</div>"
      ],
      "text/plain": [
       "   response     V1     V2     V3     V4     V5     V6     V7     V8     V9  \\\n",
       "0        12  0.487  0.072  0.004  0.833  0.765  0.600  0.132  0.886  0.073   \n",
       "1         8  0.223  0.401  0.659  0.528  0.843  0.713  0.580  0.473  0.572   \n",
       "2        15  0.903  0.913  0.940  0.979  0.561  0.744  0.627  0.818  0.309   \n",
       "3        13  0.791  0.857  0.359  0.844  0.155  0.948  0.114  0.292  0.412   \n",
       "4        16  0.326  0.593  0.085  0.927  0.926  0.633  0.431  0.326  0.031   \n",
       "\n",
       "     V10  \n",
       "0  0.342  \n",
       "1  0.528  \n",
       "2  0.510  \n",
       "3  0.991  \n",
       "4  0.730  "
      ]
     },
     "execution_count": 2,
     "metadata": {},
     "output_type": "execute_result"
    }
   ],
   "source": [
    "df = pd.read_csv('../data/processed/fireman_example/fireman_example.csv')\n",
    "df.head()"
   ]
  },
  {
   "cell_type": "code",
   "execution_count": 3,
   "metadata": {},
   "outputs": [
    {
     "data": {
      "text/plain": [
       "array([   0, 2548, 2549, 2549, 2549, 2545, 2550, 2551, 2543, 2548, 2551,\n",
       "       2546, 2547, 2550, 2546, 2551, 2545])"
      ]
     },
     "execution_count": 3,
     "metadata": {},
     "output_type": "execute_result"
    }
   ],
   "source": [
    "bins = np.bincount(df['response'].values)\n",
    "bins"
   ]
  },
  {
   "cell_type": "code",
   "execution_count": 4,
   "metadata": {},
   "outputs": [
    {
     "data": {
      "text/plain": [
       "array([2548, 2549, 2549, 2549, 2545, 2550, 2551, 2543, 2548, 2551, 2546,\n",
       "       2547, 2550, 2546, 2551, 2545])"
      ]
     },
     "execution_count": 4,
     "metadata": {},
     "output_type": "execute_result"
    }
   ],
   "source": [
    "bins[1:]"
   ]
  },
  {
   "cell_type": "code",
   "execution_count": 5,
   "metadata": {},
   "outputs": [],
   "source": [
    "lst = []\n",
    "for idx, i in enumerate(bins[1:]):\n",
    "    tmp = df[df['response'] == idx+1]\n",
    "    lst.append(tmp.iloc[:2543, ])"
   ]
  },
  {
   "cell_type": "code",
   "execution_count": 6,
   "metadata": {},
   "outputs": [],
   "source": [
    "df_new = pd.concat(lst)"
   ]
  },
  {
   "cell_type": "code",
   "execution_count": 7,
   "metadata": {},
   "outputs": [
    {
     "data": {
      "text/html": [
       "<div>\n",
       "<style scoped>\n",
       "    .dataframe tbody tr th:only-of-type {\n",
       "        vertical-align: middle;\n",
       "    }\n",
       "\n",
       "    .dataframe tbody tr th {\n",
       "        vertical-align: top;\n",
       "    }\n",
       "\n",
       "    .dataframe thead th {\n",
       "        text-align: right;\n",
       "    }\n",
       "</style>\n",
       "<table border=\"1\" class=\"dataframe\">\n",
       "  <thead>\n",
       "    <tr style=\"text-align: right;\">\n",
       "      <th></th>\n",
       "      <th>response</th>\n",
       "      <th>V1</th>\n",
       "      <th>V2</th>\n",
       "      <th>V3</th>\n",
       "      <th>V4</th>\n",
       "      <th>V5</th>\n",
       "      <th>V6</th>\n",
       "      <th>V7</th>\n",
       "      <th>V8</th>\n",
       "      <th>V9</th>\n",
       "      <th>V10</th>\n",
       "    </tr>\n",
       "  </thead>\n",
       "  <tbody>\n",
       "    <tr>\n",
       "      <th>26</th>\n",
       "      <td>1</td>\n",
       "      <td>0.059</td>\n",
       "      <td>0.134</td>\n",
       "      <td>0.387</td>\n",
       "      <td>0.225</td>\n",
       "      <td>0.139</td>\n",
       "      <td>0.547</td>\n",
       "      <td>0.792</td>\n",
       "      <td>0.853</td>\n",
       "      <td>0.138</td>\n",
       "      <td>0.383</td>\n",
       "    </tr>\n",
       "    <tr>\n",
       "      <th>71</th>\n",
       "      <td>1</td>\n",
       "      <td>0.868</td>\n",
       "      <td>0.068</td>\n",
       "      <td>0.230</td>\n",
       "      <td>0.214</td>\n",
       "      <td>0.272</td>\n",
       "      <td>0.448</td>\n",
       "      <td>0.693</td>\n",
       "      <td>0.872</td>\n",
       "      <td>0.962</td>\n",
       "      <td>0.311</td>\n",
       "    </tr>\n",
       "    <tr>\n",
       "      <th>93</th>\n",
       "      <td>1</td>\n",
       "      <td>0.638</td>\n",
       "      <td>0.045</td>\n",
       "      <td>0.374</td>\n",
       "      <td>0.150</td>\n",
       "      <td>0.653</td>\n",
       "      <td>0.356</td>\n",
       "      <td>0.477</td>\n",
       "      <td>0.445</td>\n",
       "      <td>0.007</td>\n",
       "      <td>0.441</td>\n",
       "    </tr>\n",
       "    <tr>\n",
       "      <th>96</th>\n",
       "      <td>1</td>\n",
       "      <td>0.180</td>\n",
       "      <td>0.435</td>\n",
       "      <td>0.537</td>\n",
       "      <td>0.179</td>\n",
       "      <td>0.072</td>\n",
       "      <td>0.885</td>\n",
       "      <td>0.510</td>\n",
       "      <td>0.275</td>\n",
       "      <td>0.497</td>\n",
       "      <td>0.159</td>\n",
       "    </tr>\n",
       "    <tr>\n",
       "      <th>114</th>\n",
       "      <td>1</td>\n",
       "      <td>0.005</td>\n",
       "      <td>0.213</td>\n",
       "      <td>0.792</td>\n",
       "      <td>0.149</td>\n",
       "      <td>0.925</td>\n",
       "      <td>0.561</td>\n",
       "      <td>0.275</td>\n",
       "      <td>0.620</td>\n",
       "      <td>0.162</td>\n",
       "      <td>0.386</td>\n",
       "    </tr>\n",
       "  </tbody>\n",
       "</table>\n",
       "</div>"
      ],
      "text/plain": [
       "     response     V1     V2     V3     V4     V5     V6     V7     V8     V9  \\\n",
       "26          1  0.059  0.134  0.387  0.225  0.139  0.547  0.792  0.853  0.138   \n",
       "71          1  0.868  0.068  0.230  0.214  0.272  0.448  0.693  0.872  0.962   \n",
       "93          1  0.638  0.045  0.374  0.150  0.653  0.356  0.477  0.445  0.007   \n",
       "96          1  0.180  0.435  0.537  0.179  0.072  0.885  0.510  0.275  0.497   \n",
       "114         1  0.005  0.213  0.792  0.149  0.925  0.561  0.275  0.620  0.162   \n",
       "\n",
       "       V10  \n",
       "26   0.383  \n",
       "71   0.311  \n",
       "93   0.441  \n",
       "96   0.159  \n",
       "114  0.386  "
      ]
     },
     "execution_count": 7,
     "metadata": {},
     "output_type": "execute_result"
    }
   ],
   "source": [
    "df_new.head()"
   ]
  },
  {
   "cell_type": "code",
   "execution_count": 8,
   "metadata": {},
   "outputs": [],
   "source": [
    "df_new['response'] = df_new['response'] - 1"
   ]
  },
  {
   "cell_type": "code",
   "execution_count": 9,
   "metadata": {},
   "outputs": [
    {
     "data": {
      "text/plain": [
       "array([2543, 2543, 2543, 2543, 2543, 2543, 2543, 2543, 2543, 2543, 2543,\n",
       "       2543, 2543, 2543, 2543, 2543])"
      ]
     },
     "execution_count": 9,
     "metadata": {},
     "output_type": "execute_result"
    }
   ],
   "source": [
    "bins = np.bincount(df_new['response'].values)\n",
    "bins"
   ]
  },
  {
   "cell_type": "markdown",
   "metadata": {},
   "source": [
    "## Split"
   ]
  },
  {
   "cell_type": "code",
   "execution_count": 10,
   "metadata": {},
   "outputs": [],
   "source": [
    "indices = np.arange(df_new.shape[0])\n",
    "labels = df_new['response'].values"
   ]
  },
  {
   "cell_type": "code",
   "execution_count": 11,
   "metadata": {},
   "outputs": [],
   "source": [
    "from sklearn.model_selection import train_test_split\n",
    "\n",
    "\n",
    "indices_train, indices_test, labels_train, labels_test = train_test_split(\n",
    "    indices, labels, test_size=0.2, random_state=123, shuffle=True, stratify=labels)\n",
    "\n",
    "indices_train, indices_valid, labels_train, labels_valid = train_test_split(\n",
    "    indices_train, labels_train, test_size=0.05, random_state=123, shuffle=True, stratify=labels_train)"
   ]
  },
  {
   "cell_type": "code",
   "execution_count": 12,
   "metadata": {},
   "outputs": [],
   "source": [
    "df_train = df_new.iloc[indices_train]\n",
    "df_train.to_csv('../data/processed/fireman_example/fireman_example_balanced_train.csv', index=None)\n",
    "\n",
    "df_valid = df_new.iloc[indices_valid]\n",
    "df_valid.to_csv('../data/processed/fireman_example/fireman_example_balanced_valid.csv', index=None)\n",
    "\n",
    "df_test = df_new.iloc[indices_test]\n",
    "df_test.to_csv('../data/processed/fireman_example/fireman_example_balanced_test.csv', index=None)"
   ]
  },
  {
   "cell_type": "code",
   "execution_count": null,
   "metadata": {},
   "outputs": [],
   "source": []
  }
 ],
 "metadata": {
  "kernelspec": {
   "display_name": "Python 3 (ipykernel)",
   "language": "python",
   "name": "python3"
  },
  "language_info": {
   "codemirror_mode": {
    "name": "ipython",
    "version": 3
   },
   "file_extension": ".py",
   "mimetype": "text/x-python",
   "name": "python",
   "nbconvert_exporter": "python",
   "pygments_lexer": "ipython3",
   "version": "3.9.6"
  }
 },
 "nbformat": 4,
 "nbformat_minor": 4
}
