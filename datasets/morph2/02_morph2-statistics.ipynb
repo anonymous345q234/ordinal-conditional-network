{
 "cells": [
  {
   "cell_type": "code",
   "execution_count": 26,
   "id": "8ef81323",
   "metadata": {},
   "outputs": [],
   "source": [
    "import pandas as pd\n",
    "import matplotlib.pyplot as plt\n",
    "import numpy as np"
   ]
  },
  {
   "cell_type": "markdown",
   "id": "314d08a9",
   "metadata": {},
   "source": [
    "## Original Datasets"
   ]
  },
  {
   "cell_type": "code",
   "execution_count": 27,
   "id": "68445989",
   "metadata": {},
   "outputs": [
    {
     "name": "stdout",
     "output_type": "stream",
     "text": [
      "Number of images: 39764\n",
      "Age label range: 0 - 54\n",
      "Real age range: 16 - 70\n"
     ]
    },
    {
     "data": {
      "image/png": "[encoded data removed]",
      "text/plain": [
       "<Figure size 432x288 with 1 Axes>"
      ]
     },
     "metadata": {
      "needs_background": "light"
     },
     "output_type": "display_data"
    }
   ],
   "source": [
    "df = pd.read_csv('../data/processed/morph2/morph2_train.csv')\n",
    "print(f\"Number of images: {df['age'].values.shape[0]}\")\n",
    "print(f\"Age label range: {df['age'].values.min()} - {df['age'].values.max() }\")\n",
    "print(f\"Real age range: {df['age'].values.min() + 16} - {df['age'].values.max() +16}\")\n",
    "plt.hist(df['age'].values, bins=np.arange(0, df['age'].values.max()+2))\n",
    "plt.show()"
   ]
  },
  {
   "cell_type": "code",
   "execution_count": 28,
   "id": "fd703d80",
   "metadata": {},
   "outputs": [
    {
     "name": "stdout",
     "output_type": "stream",
     "text": [
      "Number of images: 4416\n",
      "Age label range: 0 - 54\n",
      "Real age range: 16 - 70\n"
     ]
    },
    {
     "data": {
      "image/png": "[encoded data removed]",
      "text/plain": [
       "<Figure size 432x288 with 1 Axes>"
      ]
     },
     "metadata": {
      "needs_background": "light"
     },
     "output_type": "display_data"
    }
   ],
   "source": [
    "df = pd.read_csv('../data/processed/morph2/morph2_valid.csv')\n",
    "print(f\"Number of images: {df['age'].values.shape[0]}\")\n",
    "print(f\"Age label range: {df['age'].values.min()} - {df['age'].values.max() }\")\n",
    "print(f\"Real age range: {df['age'].values.min() + 16} - {df['age'].values.max() +16}\")\n",
    "plt.hist(df['age'].values, bins=np.arange(0, df['age'].values.max()+2))\n",
    "plt.show()"
   ]
  },
  {
   "cell_type": "code",
   "execution_count": 29,
   "id": "82ff2219",
   "metadata": {},
   "outputs": [
    {
     "name": "stdout",
     "output_type": "stream",
     "text": [
      "Number of images: 11044\n",
      "Age label range: 0 - 54\n",
      "Real age range: 16 - 70\n"
     ]
    },
    {
     "data": {
      "image/png": "[encoded data removed]",
      "text/plain": [
       "<Figure size 432x288 with 1 Axes>"
      ]
     },
     "metadata": {
      "needs_background": "light"
     },
     "output_type": "display_data"
    }
   ],
   "source": [
    "df = pd.read_csv('../data/processed/morph2/morph2_test.csv')\n",
    "print(f\"Number of images: {df['age'].values.shape[0]}\")\n",
    "print(f\"Age label range: {df['age'].values.min()} - {df['age'].values.max() }\")\n",
    "print(f\"Real age range: {df['age'].values.min() + 16} - {df['age'].values.max() +16}\")\n",
    "plt.hist(df['age'].values, bins=np.arange(0, df['age'].values.max()+2))\n",
    "plt.show()"
   ]
  },
  {
   "cell_type": "markdown",
   "id": "1d9dd471",
   "metadata": {},
   "source": [
    "## Balanced Datasets"
   ]
  },
  {
   "cell_type": "code",
   "execution_count": 30,
   "id": "b5b5340c",
   "metadata": {},
   "outputs": [
    {
     "name": "stdout",
     "output_type": "stream",
     "text": [
      "Number of images: 20625\n",
      "Age label range: 0 - 32\n",
      "Real age range: 16 - 48\n"
     ]
    },
    {
     "data": {
      "image/png": "[encoded data removed]",
      "text/plain": [
       "<Figure size 432x288 with 1 Axes>"
      ]
     },
     "metadata": {
      "needs_background": "light"
     },
     "output_type": "display_data"
    }
   ],
   "source": [
    "df = pd.read_csv('../data/processed/morph2/morph2_train_balanced.csv')\n",
    "print(f\"Number of images: {df['age'].values.shape[0]}\")\n",
    "print(f\"Age label range: {df['age'].values.min()} - {df['age'].values.max() }\")\n",
    "print(f\"Real age range: {df['age'].values.min() + 16} - {df['age'].values.max() + 16}\")\n",
    "plt.hist(df['age'].values, bins=np.arange(0, df['age'].values.max()+2))\n",
    "plt.show()"
   ]
  },
  {
   "cell_type": "code",
   "execution_count": 31,
   "id": "74553249",
   "metadata": {},
   "outputs": [
    {
     "name": "stdout",
     "output_type": "stream",
     "text": [
      "Number of images: 1815\n",
      "Age label range: 0 - 32\n",
      "Real age range: 16 - 48\n"
     ]
    },
    {
     "data": {
      "image/png": "[encoded data removed]",
      "text/plain": [
       "<Figure size 432x288 with 1 Axes>"
      ]
     },
     "metadata": {
      "needs_background": "light"
     },
     "output_type": "display_data"
    }
   ],
   "source": [
    "df = pd.read_csv('../data/processed/morph2/morph2_valid_balanced.csv')\n",
    "print(f\"Number of images: {df['age'].values.shape[0]}\")\n",
    "print(f\"Age label range: {df['age'].values.min()} - {df['age'].values.max() }\")\n",
    "print(f\"Real age range: {df['age'].values.min() + 16} - {df['age'].values.max() +16}\")\n",
    "plt.hist(df['age'].values, bins=np.arange(0, df['age'].values.max()+2))\n",
    "plt.show()"
   ]
  },
  {
   "cell_type": "code",
   "execution_count": 32,
   "id": "223d8d69",
   "metadata": {},
   "outputs": [
    {
     "name": "stdout",
     "output_type": "stream",
     "text": [
      "Number of images: 6270\n",
      "Age label range: 0 - 32\n",
      "Real age range: 16 - 48\n"
     ]
    },
    {
     "data": {
      "image/png": "[encoded data removed]",
      "text/plain": [
       "<Figure size 432x288 with 1 Axes>"
      ]
     },
     "metadata": {
      "needs_background": "light"
     },
     "output_type": "display_data"
    }
   ],
   "source": [
    "df = pd.read_csv('../data/processed/morph2/morph2_test_balanced.csv')\n",
    "print(f\"Number of images: {df['age'].values.shape[0]}\")\n",
    "print(f\"Age label range: {df['age'].values.min()} - {df['age'].values.max() }\")\n",
    "print(f\"Real age range: {df['age'].values.min() + 16} - {df['age'].values.max() +16}\")\n",
    "plt.hist(df['age'].values, bins=np.arange(0, df['age'].values.max()+2))\n",
    "plt.show()"
   ]
  }
 ],
 "metadata": {
  "kernelspec": {
   "display_name": "Python 3",
   "language": "python",
   "name": "python3"
  },
  "language_info": {
   "codemirror_mode": {
    "name": "ipython",
    "version": 3
   },
   "file_extension": ".py",
   "mimetype": "text/x-python",
   "name": "python",
   "nbconvert_exporter": "python",
   "pygments_lexer": "ipython3",
   "version": "3.9.2"
  }
 },
 "nbformat": 4,
 "nbformat_minor": 5
}
