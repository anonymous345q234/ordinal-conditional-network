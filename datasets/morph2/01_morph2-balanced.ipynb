{
 "cells": [
  {
   "cell_type": "code",
   "execution_count": 1,
   "metadata": {},
   "outputs": [],
   "source": [
    "import pandas as pd\n",
    "import numpy as np"
   ]
  },
  {
   "cell_type": "markdown",
   "metadata": {},
   "source": [
    "# Train"
   ]
  },
  {
   "cell_type": "code",
   "execution_count": 2,
   "metadata": {},
   "outputs": [
    {
     "data": {
      "text/html": [
       "<div>\n",
       "<style scoped>\n",
       "    .dataframe tbody tr th:only-of-type {\n",
       "        vertical-align: middle;\n",
       "    }\n",
       "\n",
       "    .dataframe tbody tr th {\n",
       "        vertical-align: top;\n",
       "    }\n",
       "\n",
       "    .dataframe thead th {\n",
       "        text-align: right;\n",
       "    }\n",
       "</style>\n",
       "<table border=\"1\" class=\"dataframe\">\n",
       "  <thead>\n",
       "    <tr style=\"text-align: right;\">\n",
       "      <th></th>\n",
       "      <th>id_num</th>\n",
       "      <th>picture_num</th>\n",
       "      <th>race</th>\n",
       "      <th>Male</th>\n",
       "      <th>facial_hair</th>\n",
       "      <th>age</th>\n",
       "      <th>glasses</th>\n",
       "      <th>quality</th>\n",
       "    </tr>\n",
       "  </thead>\n",
       "  <tbody>\n",
       "    <tr>\n",
       "      <th>321798_03M36.jpg</th>\n",
       "      <td>321798</td>\n",
       "      <td>3</td>\n",
       "      <td>B</td>\n",
       "      <td>1</td>\n",
       "      <td>NaN</td>\n",
       "      <td>20</td>\n",
       "      <td>NaN</td>\n",
       "      <td>GOOD</td>\n",
       "    </tr>\n",
       "    <tr>\n",
       "      <th>285760_00M18.jpg</th>\n",
       "      <td>285760</td>\n",
       "      <td>0</td>\n",
       "      <td>B</td>\n",
       "      <td>1</td>\n",
       "      <td>NaN</td>\n",
       "      <td>2</td>\n",
       "      <td>NaN</td>\n",
       "      <td>GOOD</td>\n",
       "    </tr>\n",
       "    <tr>\n",
       "      <th>315806_00M16.jpg</th>\n",
       "      <td>315806</td>\n",
       "      <td>0</td>\n",
       "      <td>B</td>\n",
       "      <td>1</td>\n",
       "      <td>NaN</td>\n",
       "      <td>0</td>\n",
       "      <td>NaN</td>\n",
       "      <td>GOOD</td>\n",
       "    </tr>\n",
       "    <tr>\n",
       "      <th>307105_00M33.jpg</th>\n",
       "      <td>307105</td>\n",
       "      <td>0</td>\n",
       "      <td>B</td>\n",
       "      <td>1</td>\n",
       "      <td>NaN</td>\n",
       "      <td>17</td>\n",
       "      <td>NaN</td>\n",
       "      <td>GOOD</td>\n",
       "    </tr>\n",
       "    <tr>\n",
       "      <th>067089_5M41.jpg</th>\n",
       "      <td>67089</td>\n",
       "      <td>5</td>\n",
       "      <td>B</td>\n",
       "      <td>1</td>\n",
       "      <td>NaN</td>\n",
       "      <td>25</td>\n",
       "      <td>NaN</td>\n",
       "      <td>GOOD</td>\n",
       "    </tr>\n",
       "  </tbody>\n",
       "</table>\n",
       "</div>"
      ],
      "text/plain": [
       "                  id_num  picture_num race  Male  facial_hair  age  glasses  \\\n",
       "321798_03M36.jpg  321798            3    B     1          NaN   20      NaN   \n",
       "285760_00M18.jpg  285760            0    B     1          NaN    2      NaN   \n",
       "315806_00M16.jpg  315806            0    B     1          NaN    0      NaN   \n",
       "307105_00M33.jpg  307105            0    B     1          NaN   17      NaN   \n",
       "067089_5M41.jpg    67089            5    B     1          NaN   25      NaN   \n",
       "\n",
       "                 quality  \n",
       "321798_03M36.jpg    GOOD  \n",
       "285760_00M18.jpg    GOOD  \n",
       "315806_00M16.jpg    GOOD  \n",
       "307105_00M33.jpg    GOOD  \n",
       "067089_5M41.jpg     GOOD  "
      ]
     },
     "execution_count": 2,
     "metadata": {},
     "output_type": "execute_result"
    }
   ],
   "source": [
    "df_train = pd.read_csv('morph2_train.csv', index_col=0)\n",
    "df_train.head()"
   ]
  },
  {
   "cell_type": "code",
   "execution_count": 3,
   "metadata": {},
   "outputs": [
    {
     "data": {
      "text/plain": [
       "array([1083, 1328, 1480, 1524, 1390, 1256, 1351, 1313, 1286, 1225, 1138,\n",
       "       1028,  960,  857,  835,  898,  913, 1114, 1218, 1399, 1330, 1191,\n",
       "       1097, 1025, 1031, 1137, 1135, 1013,  901,  865,  744,  696,  625,\n",
       "        535,  479,  443,  390,  364,  252,  232,  167,  126,   91,   66,\n",
       "         54,   48,   23,   31,   29,   18,    8,    9,    3,    5,    5])"
      ]
     },
     "execution_count": 3,
     "metadata": {},
     "output_type": "execute_result"
    }
   ],
   "source": [
    "bins = np.bincount(df_train['age'].values)\n",
    "bins"
   ]
  },
  {
   "cell_type": "code",
   "execution_count": 4,
   "metadata": {},
   "outputs": [
    {
     "data": {
      "text/plain": [
       "array([1083, 1328, 1480, 1524, 1390, 1256, 1351, 1313, 1286, 1225, 1138,\n",
       "       1028,  960,  857,  835,  898,  913, 1114, 1218, 1399, 1330, 1191,\n",
       "       1097, 1025, 1031, 1137, 1135, 1013,  901,  865,  744,  696,  625])"
      ]
     },
     "execution_count": 4,
     "metadata": {},
     "output_type": "execute_result"
    }
   ],
   "source": [
    "bins[:33]"
   ]
  },
  {
   "cell_type": "code",
   "execution_count": 5,
   "metadata": {},
   "outputs": [],
   "source": [
    "lst = []\n",
    "for idx, i in enumerate(bins[:33]):\n",
    "    tmp = df_train[df_train['age'] == idx]\n",
    "    lst.append(tmp.iloc[:625, ])"
   ]
  },
  {
   "cell_type": "code",
   "execution_count": 6,
   "metadata": {},
   "outputs": [],
   "source": [
    "df_train_new = pd.concat(lst)"
   ]
  },
  {
   "cell_type": "code",
   "execution_count": 7,
   "metadata": {},
   "outputs": [
    {
     "data": {
      "text/html": [
       "<div>\n",
       "<style scoped>\n",
       "    .dataframe tbody tr th:only-of-type {\n",
       "        vertical-align: middle;\n",
       "    }\n",
       "\n",
       "    .dataframe tbody tr th {\n",
       "        vertical-align: top;\n",
       "    }\n",
       "\n",
       "    .dataframe thead th {\n",
       "        text-align: right;\n",
       "    }\n",
       "</style>\n",
       "<table border=\"1\" class=\"dataframe\">\n",
       "  <thead>\n",
       "    <tr style=\"text-align: right;\">\n",
       "      <th></th>\n",
       "      <th>id_num</th>\n",
       "      <th>picture_num</th>\n",
       "      <th>race</th>\n",
       "      <th>Male</th>\n",
       "      <th>facial_hair</th>\n",
       "      <th>age</th>\n",
       "      <th>glasses</th>\n",
       "      <th>quality</th>\n",
       "    </tr>\n",
       "  </thead>\n",
       "  <tbody>\n",
       "    <tr>\n",
       "      <th>315806_00M16.jpg</th>\n",
       "      <td>315806</td>\n",
       "      <td>0</td>\n",
       "      <td>B</td>\n",
       "      <td>1</td>\n",
       "      <td>NaN</td>\n",
       "      <td>0</td>\n",
       "      <td>NaN</td>\n",
       "      <td>GOOD</td>\n",
       "    </tr>\n",
       "    <tr>\n",
       "      <th>334740_02M16.jpg</th>\n",
       "      <td>334740</td>\n",
       "      <td>2</td>\n",
       "      <td>B</td>\n",
       "      <td>1</td>\n",
       "      <td>NaN</td>\n",
       "      <td>0</td>\n",
       "      <td>NaN</td>\n",
       "      <td>GOOD</td>\n",
       "    </tr>\n",
       "    <tr>\n",
       "      <th>327774_02M16.jpg</th>\n",
       "      <td>327774</td>\n",
       "      <td>2</td>\n",
       "      <td>B</td>\n",
       "      <td>1</td>\n",
       "      <td>NaN</td>\n",
       "      <td>0</td>\n",
       "      <td>NaN</td>\n",
       "      <td>GOOD</td>\n",
       "    </tr>\n",
       "    <tr>\n",
       "      <th>326445_01M16.jpg</th>\n",
       "      <td>326445</td>\n",
       "      <td>1</td>\n",
       "      <td>W</td>\n",
       "      <td>1</td>\n",
       "      <td>NaN</td>\n",
       "      <td>0</td>\n",
       "      <td>NaN</td>\n",
       "      <td>GOOD</td>\n",
       "    </tr>\n",
       "    <tr>\n",
       "      <th>330379_02M16.jpg</th>\n",
       "      <td>330379</td>\n",
       "      <td>2</td>\n",
       "      <td>B</td>\n",
       "      <td>1</td>\n",
       "      <td>NaN</td>\n",
       "      <td>0</td>\n",
       "      <td>NaN</td>\n",
       "      <td>GOOD</td>\n",
       "    </tr>\n",
       "  </tbody>\n",
       "</table>\n",
       "</div>"
      ],
      "text/plain": [
       "                  id_num  picture_num race  Male  facial_hair  age  glasses  \\\n",
       "315806_00M16.jpg  315806            0    B     1          NaN    0      NaN   \n",
       "334740_02M16.jpg  334740            2    B     1          NaN    0      NaN   \n",
       "327774_02M16.jpg  327774            2    B     1          NaN    0      NaN   \n",
       "326445_01M16.jpg  326445            1    W     1          NaN    0      NaN   \n",
       "330379_02M16.jpg  330379            2    B     1          NaN    0      NaN   \n",
       "\n",
       "                 quality  \n",
       "315806_00M16.jpg    GOOD  \n",
       "334740_02M16.jpg    GOOD  \n",
       "327774_02M16.jpg    GOOD  \n",
       "326445_01M16.jpg    GOOD  \n",
       "330379_02M16.jpg    GOOD  "
      ]
     },
     "execution_count": 7,
     "metadata": {},
     "output_type": "execute_result"
    }
   ],
   "source": [
    "df_train_new.head()"
   ]
  },
  {
   "cell_type": "code",
   "execution_count": 8,
   "metadata": {},
   "outputs": [
    {
     "data": {
      "text/plain": [
       "array([625, 625, 625, 625, 625, 625, 625, 625, 625, 625, 625, 625, 625,\n",
       "       625, 625, 625, 625, 625, 625, 625, 625, 625, 625, 625, 625, 625,\n",
       "       625, 625, 625, 625, 625, 625, 625])"
      ]
     },
     "execution_count": 8,
     "metadata": {},
     "output_type": "execute_result"
    }
   ],
   "source": [
    "bins = np.bincount(df_train_new['age'].values)\n",
    "bins"
   ]
  },
  {
   "cell_type": "code",
   "execution_count": 9,
   "metadata": {},
   "outputs": [],
   "source": [
    "df_train_new.to_csv('morph2_train_balanced.csv')"
   ]
  },
  {
   "cell_type": "code",
   "execution_count": null,
   "metadata": {},
   "outputs": [],
   "source": []
  },
  {
   "cell_type": "markdown",
   "metadata": {},
   "source": [
    "# Valid"
   ]
  },
  {
   "cell_type": "code",
   "execution_count": 10,
   "metadata": {},
   "outputs": [
    {
     "data": {
      "text/html": [
       "<div>\n",
       "<style scoped>\n",
       "    .dataframe tbody tr th:only-of-type {\n",
       "        vertical-align: middle;\n",
       "    }\n",
       "\n",
       "    .dataframe tbody tr th {\n",
       "        vertical-align: top;\n",
       "    }\n",
       "\n",
       "    .dataframe thead th {\n",
       "        text-align: right;\n",
       "    }\n",
       "</style>\n",
       "<table border=\"1\" class=\"dataframe\">\n",
       "  <thead>\n",
       "    <tr style=\"text-align: right;\">\n",
       "      <th></th>\n",
       "      <th>id_num</th>\n",
       "      <th>picture_num</th>\n",
       "      <th>race</th>\n",
       "      <th>Male</th>\n",
       "      <th>facial_hair</th>\n",
       "      <th>age</th>\n",
       "      <th>glasses</th>\n",
       "      <th>quality</th>\n",
       "    </tr>\n",
       "  </thead>\n",
       "  <tbody>\n",
       "    <tr>\n",
       "      <th>201620_00M29.jpg</th>\n",
       "      <td>201620</td>\n",
       "      <td>0</td>\n",
       "      <td>B</td>\n",
       "      <td>1</td>\n",
       "      <td>NaN</td>\n",
       "      <td>13</td>\n",
       "      <td>NaN</td>\n",
       "      <td>GOOD</td>\n",
       "    </tr>\n",
       "    <tr>\n",
       "      <th>290135_03M22.jpg</th>\n",
       "      <td>290135</td>\n",
       "      <td>3</td>\n",
       "      <td>B</td>\n",
       "      <td>1</td>\n",
       "      <td>NaN</td>\n",
       "      <td>6</td>\n",
       "      <td>NaN</td>\n",
       "      <td>GOOD</td>\n",
       "    </tr>\n",
       "    <tr>\n",
       "      <th>074598_2M37.jpg</th>\n",
       "      <td>74598</td>\n",
       "      <td>2</td>\n",
       "      <td>B</td>\n",
       "      <td>1</td>\n",
       "      <td>NaN</td>\n",
       "      <td>21</td>\n",
       "      <td>NaN</td>\n",
       "      <td>GOOD</td>\n",
       "    </tr>\n",
       "    <tr>\n",
       "      <th>074598_0M35.jpg</th>\n",
       "      <td>74598</td>\n",
       "      <td>0</td>\n",
       "      <td>B</td>\n",
       "      <td>1</td>\n",
       "      <td>NaN</td>\n",
       "      <td>19</td>\n",
       "      <td>NaN</td>\n",
       "      <td>GOOD</td>\n",
       "    </tr>\n",
       "    <tr>\n",
       "      <th>276393_03F28.jpg</th>\n",
       "      <td>276393</td>\n",
       "      <td>3</td>\n",
       "      <td>B</td>\n",
       "      <td>-1</td>\n",
       "      <td>NaN</td>\n",
       "      <td>12</td>\n",
       "      <td>NaN</td>\n",
       "      <td>GOOD</td>\n",
       "    </tr>\n",
       "  </tbody>\n",
       "</table>\n",
       "</div>"
      ],
      "text/plain": [
       "                  id_num  picture_num race  Male  facial_hair  age  glasses  \\\n",
       "201620_00M29.jpg  201620            0    B     1          NaN   13      NaN   \n",
       "290135_03M22.jpg  290135            3    B     1          NaN    6      NaN   \n",
       "074598_2M37.jpg    74598            2    B     1          NaN   21      NaN   \n",
       "074598_0M35.jpg    74598            0    B     1          NaN   19      NaN   \n",
       "276393_03F28.jpg  276393            3    B    -1          NaN   12      NaN   \n",
       "\n",
       "                 quality  \n",
       "201620_00M29.jpg    GOOD  \n",
       "290135_03M22.jpg    GOOD  \n",
       "074598_2M37.jpg     GOOD  \n",
       "074598_0M35.jpg     GOOD  \n",
       "276393_03F28.jpg    GOOD  "
      ]
     },
     "execution_count": 10,
     "metadata": {},
     "output_type": "execute_result"
    }
   ],
   "source": [
    "df_valid = pd.read_csv('morph2_valid.csv', index_col=0)\n",
    "df_valid.head()"
   ]
  },
  {
   "cell_type": "code",
   "execution_count": 11,
   "metadata": {},
   "outputs": [
    {
     "data": {
      "text/plain": [
       "array([118, 143, 155, 156, 175, 128, 161, 135, 143, 129, 127, 111, 122,\n",
       "       105,  97, 117, 101, 137, 129, 143, 127, 128, 137, 124, 122, 136,\n",
       "       123, 105,  96, 106,  89,  68,  55,  61,  40,  47,  52,  33,  35,\n",
       "        22,  26,  15,   7,   8,   3,   5,   4,   1,   4,   1,   2,   0,\n",
       "         1,   0,   1])"
      ]
     },
     "execution_count": 11,
     "metadata": {},
     "output_type": "execute_result"
    }
   ],
   "source": [
    "bins = np.bincount(df_valid['age'].values)\n",
    "bins"
   ]
  },
  {
   "cell_type": "code",
   "execution_count": 12,
   "metadata": {},
   "outputs": [
    {
     "data": {
      "text/plain": [
       "array([118, 143, 155, 156, 175, 128, 161, 135, 143, 129, 127, 111, 122,\n",
       "       105,  97, 117, 101, 137, 129, 143, 127, 128, 137, 124, 122, 136,\n",
       "       123, 105,  96, 106,  89,  68,  55])"
      ]
     },
     "execution_count": 12,
     "metadata": {},
     "output_type": "execute_result"
    }
   ],
   "source": [
    "bins[:33]"
   ]
  },
  {
   "cell_type": "code",
   "execution_count": 13,
   "metadata": {},
   "outputs": [],
   "source": [
    "lst = []\n",
    "for idx, i in enumerate(bins[:33]):\n",
    "    tmp = df_valid[df_valid['age'] == idx]\n",
    "    lst.append(tmp.iloc[:55, ])"
   ]
  },
  {
   "cell_type": "code",
   "execution_count": 14,
   "metadata": {},
   "outputs": [],
   "source": [
    "df_valid_new = pd.concat(lst)"
   ]
  },
  {
   "cell_type": "code",
   "execution_count": 15,
   "metadata": {},
   "outputs": [
    {
     "data": {
      "text/html": [
       "<div>\n",
       "<style scoped>\n",
       "    .dataframe tbody tr th:only-of-type {\n",
       "        vertical-align: middle;\n",
       "    }\n",
       "\n",
       "    .dataframe tbody tr th {\n",
       "        vertical-align: top;\n",
       "    }\n",
       "\n",
       "    .dataframe thead th {\n",
       "        text-align: right;\n",
       "    }\n",
       "</style>\n",
       "<table border=\"1\" class=\"dataframe\">\n",
       "  <thead>\n",
       "    <tr style=\"text-align: right;\">\n",
       "      <th></th>\n",
       "      <th>id_num</th>\n",
       "      <th>picture_num</th>\n",
       "      <th>race</th>\n",
       "      <th>Male</th>\n",
       "      <th>facial_hair</th>\n",
       "      <th>age</th>\n",
       "      <th>glasses</th>\n",
       "      <th>quality</th>\n",
       "    </tr>\n",
       "  </thead>\n",
       "  <tbody>\n",
       "    <tr>\n",
       "      <th>341774_02M16.jpg</th>\n",
       "      <td>341774</td>\n",
       "      <td>2</td>\n",
       "      <td>B</td>\n",
       "      <td>1</td>\n",
       "      <td>NaN</td>\n",
       "      <td>0</td>\n",
       "      <td>NaN</td>\n",
       "      <td>GOOD</td>\n",
       "    </tr>\n",
       "    <tr>\n",
       "      <th>321579_00M16.jpg</th>\n",
       "      <td>321579</td>\n",
       "      <td>0</td>\n",
       "      <td>B</td>\n",
       "      <td>1</td>\n",
       "      <td>NaN</td>\n",
       "      <td>0</td>\n",
       "      <td>NaN</td>\n",
       "      <td>GOOD</td>\n",
       "    </tr>\n",
       "    <tr>\n",
       "      <th>340446_00M16.jpg</th>\n",
       "      <td>340446</td>\n",
       "      <td>0</td>\n",
       "      <td>B</td>\n",
       "      <td>1</td>\n",
       "      <td>NaN</td>\n",
       "      <td>0</td>\n",
       "      <td>NaN</td>\n",
       "      <td>GOOD</td>\n",
       "    </tr>\n",
       "    <tr>\n",
       "      <th>341265_02M16.jpg</th>\n",
       "      <td>341265</td>\n",
       "      <td>2</td>\n",
       "      <td>B</td>\n",
       "      <td>1</td>\n",
       "      <td>NaN</td>\n",
       "      <td>0</td>\n",
       "      <td>NaN</td>\n",
       "      <td>GOOD</td>\n",
       "    </tr>\n",
       "    <tr>\n",
       "      <th>338471_01M16.jpg</th>\n",
       "      <td>338471</td>\n",
       "      <td>1</td>\n",
       "      <td>W</td>\n",
       "      <td>1</td>\n",
       "      <td>NaN</td>\n",
       "      <td>0</td>\n",
       "      <td>NaN</td>\n",
       "      <td>GOOD</td>\n",
       "    </tr>\n",
       "  </tbody>\n",
       "</table>\n",
       "</div>"
      ],
      "text/plain": [
       "                  id_num  picture_num race  Male  facial_hair  age  glasses  \\\n",
       "341774_02M16.jpg  341774            2    B     1          NaN    0      NaN   \n",
       "321579_00M16.jpg  321579            0    B     1          NaN    0      NaN   \n",
       "340446_00M16.jpg  340446            0    B     1          NaN    0      NaN   \n",
       "341265_02M16.jpg  341265            2    B     1          NaN    0      NaN   \n",
       "338471_01M16.jpg  338471            1    W     1          NaN    0      NaN   \n",
       "\n",
       "                 quality  \n",
       "341774_02M16.jpg    GOOD  \n",
       "321579_00M16.jpg    GOOD  \n",
       "340446_00M16.jpg    GOOD  \n",
       "341265_02M16.jpg    GOOD  \n",
       "338471_01M16.jpg    GOOD  "
      ]
     },
     "execution_count": 15,
     "metadata": {},
     "output_type": "execute_result"
    }
   ],
   "source": [
    "df_valid_new.head()"
   ]
  },
  {
   "cell_type": "code",
   "execution_count": 16,
   "metadata": {},
   "outputs": [
    {
     "data": {
      "text/plain": [
       "array([55, 55, 55, 55, 55, 55, 55, 55, 55, 55, 55, 55, 55, 55, 55, 55, 55,\n",
       "       55, 55, 55, 55, 55, 55, 55, 55, 55, 55, 55, 55, 55, 55, 55, 55])"
      ]
     },
     "execution_count": 16,
     "metadata": {},
     "output_type": "execute_result"
    }
   ],
   "source": [
    "bins = np.bincount(df_valid_new['age'].values)\n",
    "bins"
   ]
  },
  {
   "cell_type": "code",
   "execution_count": 17,
   "metadata": {},
   "outputs": [],
   "source": [
    "df_valid_new.to_csv('morph2_valid_balanced.csv')"
   ]
  },
  {
   "cell_type": "code",
   "execution_count": null,
   "metadata": {},
   "outputs": [],
   "source": []
  },
  {
   "cell_type": "markdown",
   "metadata": {},
   "source": [
    "# Test"
   ]
  },
  {
   "cell_type": "code",
   "execution_count": 18,
   "metadata": {},
   "outputs": [
    {
     "data": {
      "text/html": [
       "<div>\n",
       "<style scoped>\n",
       "    .dataframe tbody tr th:only-of-type {\n",
       "        vertical-align: middle;\n",
       "    }\n",
       "\n",
       "    .dataframe tbody tr th {\n",
       "        vertical-align: top;\n",
       "    }\n",
       "\n",
       "    .dataframe thead th {\n",
       "        text-align: right;\n",
       "    }\n",
       "</style>\n",
       "<table border=\"1\" class=\"dataframe\">\n",
       "  <thead>\n",
       "    <tr style=\"text-align: right;\">\n",
       "      <th></th>\n",
       "      <th>id_num</th>\n",
       "      <th>picture_num</th>\n",
       "      <th>race</th>\n",
       "      <th>Male</th>\n",
       "      <th>facial_hair</th>\n",
       "      <th>age</th>\n",
       "      <th>glasses</th>\n",
       "      <th>quality</th>\n",
       "    </tr>\n",
       "  </thead>\n",
       "  <tbody>\n",
       "    <tr>\n",
       "      <th>273546_01M22.jpg</th>\n",
       "      <td>273546</td>\n",
       "      <td>1</td>\n",
       "      <td>B</td>\n",
       "      <td>1</td>\n",
       "      <td>NaN</td>\n",
       "      <td>6</td>\n",
       "      <td>NaN</td>\n",
       "      <td>GOOD</td>\n",
       "    </tr>\n",
       "    <tr>\n",
       "      <th>306329_00F32.jpg</th>\n",
       "      <td>306329</td>\n",
       "      <td>0</td>\n",
       "      <td>B</td>\n",
       "      <td>-1</td>\n",
       "      <td>NaN</td>\n",
       "      <td>16</td>\n",
       "      <td>NaN</td>\n",
       "      <td>GOOD</td>\n",
       "    </tr>\n",
       "    <tr>\n",
       "      <th>124805_06F54.jpg</th>\n",
       "      <td>124805</td>\n",
       "      <td>6</td>\n",
       "      <td>B</td>\n",
       "      <td>-1</td>\n",
       "      <td>NaN</td>\n",
       "      <td>38</td>\n",
       "      <td>NaN</td>\n",
       "      <td>GOOD</td>\n",
       "    </tr>\n",
       "    <tr>\n",
       "      <th>066525_3M45.jpg</th>\n",
       "      <td>66525</td>\n",
       "      <td>3</td>\n",
       "      <td>B</td>\n",
       "      <td>1</td>\n",
       "      <td>NaN</td>\n",
       "      <td>29</td>\n",
       "      <td>NaN</td>\n",
       "      <td>GOOD</td>\n",
       "    </tr>\n",
       "    <tr>\n",
       "      <th>098195_6F46.jpg</th>\n",
       "      <td>98195</td>\n",
       "      <td>6</td>\n",
       "      <td>B</td>\n",
       "      <td>-1</td>\n",
       "      <td>NaN</td>\n",
       "      <td>30</td>\n",
       "      <td>NaN</td>\n",
       "      <td>GOOD</td>\n",
       "    </tr>\n",
       "  </tbody>\n",
       "</table>\n",
       "</div>"
      ],
      "text/plain": [
       "                  id_num  picture_num race  Male  facial_hair  age  glasses  \\\n",
       "273546_01M22.jpg  273546            1    B     1          NaN    6      NaN   \n",
       "306329_00F32.jpg  306329            0    B    -1          NaN   16      NaN   \n",
       "124805_06F54.jpg  124805            6    B    -1          NaN   38      NaN   \n",
       "066525_3M45.jpg    66525            3    B     1          NaN   29      NaN   \n",
       "098195_6F46.jpg    98195            6    B    -1          NaN   30      NaN   \n",
       "\n",
       "                 quality  \n",
       "273546_01M22.jpg    GOOD  \n",
       "306329_00F32.jpg    GOOD  \n",
       "124805_06F54.jpg    GOOD  \n",
       "066525_3M45.jpg     GOOD  \n",
       "098195_6F46.jpg     GOOD  "
      ]
     },
     "execution_count": 18,
     "metadata": {},
     "output_type": "execute_result"
    }
   ],
   "source": [
    "df_test = pd.read_csv('morph2_test.csv', index_col=0)\n",
    "df_test.head()"
   ]
  },
  {
   "cell_type": "code",
   "execution_count": 19,
   "metadata": {},
   "outputs": [
    {
     "data": {
      "text/plain": [
       "array([273, 384, 414, 410, 420, 371, 321, 369, 357, 351, 273, 270, 264,\n",
       "       216, 224, 267, 273, 306, 353, 354, 376, 351, 289, 325, 281, 297,\n",
       "       307, 291, 284, 243, 232, 194, 197, 148, 121, 130, 110,  81,  78,\n",
       "        59,  41,  27,  21,  22,  15,  13,  15,   3,   3,   7,   5,   4,\n",
       "         0,   3,   1])"
      ]
     },
     "execution_count": 19,
     "metadata": {},
     "output_type": "execute_result"
    }
   ],
   "source": [
    "bins = np.bincount(df_test['age'].values)\n",
    "bins"
   ]
  },
  {
   "cell_type": "code",
   "execution_count": 20,
   "metadata": {},
   "outputs": [
    {
     "data": {
      "text/plain": [
       "array([273, 384, 414, 410, 420, 371, 321, 369, 357, 351, 273, 270, 264,\n",
       "       216, 224, 267, 273, 306, 353, 354, 376, 351, 289, 325, 281, 297,\n",
       "       307, 291, 284, 243, 232, 194, 197])"
      ]
     },
     "execution_count": 20,
     "metadata": {},
     "output_type": "execute_result"
    }
   ],
   "source": [
    "bins[:33]"
   ]
  },
  {
   "cell_type": "code",
   "execution_count": 21,
   "metadata": {},
   "outputs": [],
   "source": [
    "lst = []\n",
    "for idx, i in enumerate(bins[:33]):\n",
    "    tmp = df_test[df_test['age'] == idx]\n",
    "    lst.append(tmp.iloc[:190, ])"
   ]
  },
  {
   "cell_type": "code",
   "execution_count": 22,
   "metadata": {},
   "outputs": [],
   "source": [
    "df_test_new = pd.concat(lst)"
   ]
  },
  {
   "cell_type": "code",
   "execution_count": 23,
   "metadata": {},
   "outputs": [
    {
     "data": {
      "text/html": [
       "<div>\n",
       "<style scoped>\n",
       "    .dataframe tbody tr th:only-of-type {\n",
       "        vertical-align: middle;\n",
       "    }\n",
       "\n",
       "    .dataframe tbody tr th {\n",
       "        vertical-align: top;\n",
       "    }\n",
       "\n",
       "    .dataframe thead th {\n",
       "        text-align: right;\n",
       "    }\n",
       "</style>\n",
       "<table border=\"1\" class=\"dataframe\">\n",
       "  <thead>\n",
       "    <tr style=\"text-align: right;\">\n",
       "      <th></th>\n",
       "      <th>id_num</th>\n",
       "      <th>picture_num</th>\n",
       "      <th>race</th>\n",
       "      <th>Male</th>\n",
       "      <th>facial_hair</th>\n",
       "      <th>age</th>\n",
       "      <th>glasses</th>\n",
       "      <th>quality</th>\n",
       "    </tr>\n",
       "  </thead>\n",
       "  <tbody>\n",
       "    <tr>\n",
       "      <th>330519_01F16.jpg</th>\n",
       "      <td>330519</td>\n",
       "      <td>1</td>\n",
       "      <td>W</td>\n",
       "      <td>-1</td>\n",
       "      <td>NaN</td>\n",
       "      <td>0</td>\n",
       "      <td>NaN</td>\n",
       "      <td>GOOD</td>\n",
       "    </tr>\n",
       "    <tr>\n",
       "      <th>349676_02M16.jpg</th>\n",
       "      <td>349676</td>\n",
       "      <td>2</td>\n",
       "      <td>B</td>\n",
       "      <td>1</td>\n",
       "      <td>NaN</td>\n",
       "      <td>0</td>\n",
       "      <td>NaN</td>\n",
       "      <td>GOOD</td>\n",
       "    </tr>\n",
       "    <tr>\n",
       "      <th>335235_00M16.jpg</th>\n",
       "      <td>335235</td>\n",
       "      <td>0</td>\n",
       "      <td>B</td>\n",
       "      <td>1</td>\n",
       "      <td>NaN</td>\n",
       "      <td>0</td>\n",
       "      <td>NaN</td>\n",
       "      <td>GOOD</td>\n",
       "    </tr>\n",
       "    <tr>\n",
       "      <th>319410_01M16.jpg</th>\n",
       "      <td>319410</td>\n",
       "      <td>1</td>\n",
       "      <td>B</td>\n",
       "      <td>1</td>\n",
       "      <td>NaN</td>\n",
       "      <td>0</td>\n",
       "      <td>NaN</td>\n",
       "      <td>GOOD</td>\n",
       "    </tr>\n",
       "    <tr>\n",
       "      <th>329559_00M16.jpg</th>\n",
       "      <td>329559</td>\n",
       "      <td>0</td>\n",
       "      <td>H</td>\n",
       "      <td>1</td>\n",
       "      <td>NaN</td>\n",
       "      <td>0</td>\n",
       "      <td>NaN</td>\n",
       "      <td>GOOD</td>\n",
       "    </tr>\n",
       "  </tbody>\n",
       "</table>\n",
       "</div>"
      ],
      "text/plain": [
       "                  id_num  picture_num race  Male  facial_hair  age  glasses  \\\n",
       "330519_01F16.jpg  330519            1    W    -1          NaN    0      NaN   \n",
       "349676_02M16.jpg  349676            2    B     1          NaN    0      NaN   \n",
       "335235_00M16.jpg  335235            0    B     1          NaN    0      NaN   \n",
       "319410_01M16.jpg  319410            1    B     1          NaN    0      NaN   \n",
       "329559_00M16.jpg  329559            0    H     1          NaN    0      NaN   \n",
       "\n",
       "                 quality  \n",
       "330519_01F16.jpg    GOOD  \n",
       "349676_02M16.jpg    GOOD  \n",
       "335235_00M16.jpg    GOOD  \n",
       "319410_01M16.jpg    GOOD  \n",
       "329559_00M16.jpg    GOOD  "
      ]
     },
     "execution_count": 23,
     "metadata": {},
     "output_type": "execute_result"
    }
   ],
   "source": [
    "df_test_new.head()"
   ]
  },
  {
   "cell_type": "code",
   "execution_count": 24,
   "metadata": {},
   "outputs": [
    {
     "data": {
      "text/plain": [
       "array([190, 190, 190, 190, 190, 190, 190, 190, 190, 190, 190, 190, 190,\n",
       "       190, 190, 190, 190, 190, 190, 190, 190, 190, 190, 190, 190, 190,\n",
       "       190, 190, 190, 190, 190, 190, 190])"
      ]
     },
     "execution_count": 24,
     "metadata": {},
     "output_type": "execute_result"
    }
   ],
   "source": [
    "bins = np.bincount(df_test_new['age'].values)\n",
    "bins"
   ]
  },
  {
   "cell_type": "code",
   "execution_count": 25,
   "metadata": {},
   "outputs": [],
   "source": [
    "df_test_new.to_csv('morph2_test_balanced.csv')"
   ]
  },
  {
   "cell_type": "code",
   "execution_count": null,
   "metadata": {},
   "outputs": [],
   "source": []
  }
 ],
 "metadata": {
  "kernelspec": {
   "display_name": "Python 3",
   "language": "python",
   "name": "python3"
  },
  "language_info": {
   "codemirror_mode": {
    "name": "ipython",
    "version": 3
   },
   "file_extension": ".py",
   "mimetype": "text/x-python",
   "name": "python",
   "nbconvert_exporter": "python",
   "pygments_lexer": "ipython3",
   "version": "3.8.2"
  }
 },
 "nbformat": 4,
 "nbformat_minor": 4
}
