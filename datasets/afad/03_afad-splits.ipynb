{
 "cells": [
  {
   "cell_type": "code",
   "execution_count": 1,
   "id": "4a75261c",
   "metadata": {},
   "outputs": [],
   "source": [
    "import pandas as pd"
   ]
  },
  {
   "cell_type": "code",
   "execution_count": 2,
   "id": "40cd1a7e",
   "metadata": {},
   "outputs": [
    {
     "data": {
      "text/html": [
       "<div>\n",
       "<style scoped>\n",
       "    .dataframe tbody tr th:only-of-type {\n",
       "        vertical-align: middle;\n",
       "    }\n",
       "\n",
       "    .dataframe tbody tr th {\n",
       "        vertical-align: top;\n",
       "    }\n",
       "\n",
       "    .dataframe thead th {\n",
       "        text-align: right;\n",
       "    }\n",
       "</style>\n",
       "<table border=\"1\" class=\"dataframe\">\n",
       "  <thead>\n",
       "    <tr style=\"text-align: right;\">\n",
       "      <th></th>\n",
       "      <th>file</th>\n",
       "      <th>path</th>\n",
       "      <th>age</th>\n",
       "      <th>gender</th>\n",
       "    </tr>\n",
       "  </thead>\n",
       "  <tbody>\n",
       "    <tr>\n",
       "      <th>0</th>\n",
       "      <td>425277-0.jpg</td>\n",
       "      <td>32/111/425277-0.jpg</td>\n",
       "      <td>17</td>\n",
       "      <td>male</td>\n",
       "    </tr>\n",
       "    <tr>\n",
       "      <th>1</th>\n",
       "      <td>68404-0.jpg</td>\n",
       "      <td>32/111/68404-0.jpg</td>\n",
       "      <td>17</td>\n",
       "      <td>male</td>\n",
       "    </tr>\n",
       "    <tr>\n",
       "      <th>2</th>\n",
       "      <td>129854-0.jpg</td>\n",
       "      <td>32/111/129854-0.jpg</td>\n",
       "      <td>17</td>\n",
       "      <td>male</td>\n",
       "    </tr>\n",
       "    <tr>\n",
       "      <th>3</th>\n",
       "      <td>131077-0.jpg</td>\n",
       "      <td>32/111/131077-0.jpg</td>\n",
       "      <td>17</td>\n",
       "      <td>male</td>\n",
       "    </tr>\n",
       "    <tr>\n",
       "      <th>4</th>\n",
       "      <td>440047-0.jpg</td>\n",
       "      <td>32/111/440047-0.jpg</td>\n",
       "      <td>17</td>\n",
       "      <td>male</td>\n",
       "    </tr>\n",
       "  </tbody>\n",
       "</table>\n",
       "</div>"
      ],
      "text/plain": [
       "           file                 path  age gender\n",
       "0  425277-0.jpg  32/111/425277-0.jpg   17   male\n",
       "1   68404-0.jpg   32/111/68404-0.jpg   17   male\n",
       "2  129854-0.jpg  32/111/129854-0.jpg   17   male\n",
       "3  131077-0.jpg  32/111/131077-0.jpg   17   male\n",
       "4  440047-0.jpg  32/111/440047-0.jpg   17   male"
      ]
     },
     "execution_count": 2,
     "metadata": {},
     "output_type": "execute_result"
    }
   ],
   "source": [
    "df_train = pd.read_csv('old_afad_train.csv')\n",
    "df_train.head()"
   ]
  },
  {
   "cell_type": "code",
   "execution_count": 3,
   "id": "bf4c4bfc",
   "metadata": {},
   "outputs": [
    {
     "data": {
      "text/html": [
       "<div>\n",
       "<style scoped>\n",
       "    .dataframe tbody tr th:only-of-type {\n",
       "        vertical-align: middle;\n",
       "    }\n",
       "\n",
       "    .dataframe tbody tr th {\n",
       "        vertical-align: top;\n",
       "    }\n",
       "\n",
       "    .dataframe thead th {\n",
       "        text-align: right;\n",
       "    }\n",
       "</style>\n",
       "<table border=\"1\" class=\"dataframe\">\n",
       "  <thead>\n",
       "    <tr style=\"text-align: right;\">\n",
       "      <th></th>\n",
       "      <th>file</th>\n",
       "      <th>path</th>\n",
       "      <th>age</th>\n",
       "      <th>gender</th>\n",
       "    </tr>\n",
       "  </thead>\n",
       "  <tbody>\n",
       "    <tr>\n",
       "      <th>0</th>\n",
       "      <td>474596-0.jpg</td>\n",
       "      <td>39/112/474596-0.jpg</td>\n",
       "      <td>24</td>\n",
       "      <td>female</td>\n",
       "    </tr>\n",
       "    <tr>\n",
       "      <th>1</th>\n",
       "      <td>397477-0.jpg</td>\n",
       "      <td>39/112/397477-0.jpg</td>\n",
       "      <td>24</td>\n",
       "      <td>female</td>\n",
       "    </tr>\n",
       "    <tr>\n",
       "      <th>2</th>\n",
       "      <td>400021-0.jpg</td>\n",
       "      <td>39/112/400021-0.jpg</td>\n",
       "      <td>24</td>\n",
       "      <td>female</td>\n",
       "    </tr>\n",
       "    <tr>\n",
       "      <th>3</th>\n",
       "      <td>407258-0.jpg</td>\n",
       "      <td>39/112/407258-0.jpg</td>\n",
       "      <td>24</td>\n",
       "      <td>female</td>\n",
       "    </tr>\n",
       "    <tr>\n",
       "      <th>4</th>\n",
       "      <td>404121-0.jpg</td>\n",
       "      <td>39/112/404121-0.jpg</td>\n",
       "      <td>24</td>\n",
       "      <td>female</td>\n",
       "    </tr>\n",
       "  </tbody>\n",
       "</table>\n",
       "</div>"
      ],
      "text/plain": [
       "           file                 path  age  gender\n",
       "0  474596-0.jpg  39/112/474596-0.jpg   24  female\n",
       "1  397477-0.jpg  39/112/397477-0.jpg   24  female\n",
       "2  400021-0.jpg  39/112/400021-0.jpg   24  female\n",
       "3  407258-0.jpg  39/112/407258-0.jpg   24  female\n",
       "4  404121-0.jpg  39/112/404121-0.jpg   24  female"
      ]
     },
     "execution_count": 3,
     "metadata": {},
     "output_type": "execute_result"
    }
   ],
   "source": [
    "df_valid = pd.read_csv('old_afad_valid.csv')\n",
    "df_valid.head()"
   ]
  },
  {
   "cell_type": "code",
   "execution_count": 4,
   "id": "22394093",
   "metadata": {},
   "outputs": [
    {
     "data": {
      "text/html": [
       "<div>\n",
       "<style scoped>\n",
       "    .dataframe tbody tr th:only-of-type {\n",
       "        vertical-align: middle;\n",
       "    }\n",
       "\n",
       "    .dataframe tbody tr th {\n",
       "        vertical-align: top;\n",
       "    }\n",
       "\n",
       "    .dataframe thead th {\n",
       "        text-align: right;\n",
       "    }\n",
       "</style>\n",
       "<table border=\"1\" class=\"dataframe\">\n",
       "  <thead>\n",
       "    <tr style=\"text-align: right;\">\n",
       "      <th></th>\n",
       "      <th>file</th>\n",
       "      <th>path</th>\n",
       "      <th>age</th>\n",
       "      <th>gender</th>\n",
       "    </tr>\n",
       "  </thead>\n",
       "  <tbody>\n",
       "    <tr>\n",
       "      <th>0</th>\n",
       "      <td>406208-0.jpg</td>\n",
       "      <td>39/112/406208-0.jpg</td>\n",
       "      <td>24</td>\n",
       "      <td>female</td>\n",
       "    </tr>\n",
       "    <tr>\n",
       "      <th>1</th>\n",
       "      <td>470804-0.jpg</td>\n",
       "      <td>39/112/470804-0.jpg</td>\n",
       "      <td>24</td>\n",
       "      <td>female</td>\n",
       "    </tr>\n",
       "    <tr>\n",
       "      <th>2</th>\n",
       "      <td>411657-2.jpg</td>\n",
       "      <td>39/112/411657-2.jpg</td>\n",
       "      <td>24</td>\n",
       "      <td>female</td>\n",
       "    </tr>\n",
       "    <tr>\n",
       "      <th>3</th>\n",
       "      <td>471528-2.jpg</td>\n",
       "      <td>39/112/471528-2.jpg</td>\n",
       "      <td>24</td>\n",
       "      <td>female</td>\n",
       "    </tr>\n",
       "    <tr>\n",
       "      <th>4</th>\n",
       "      <td>398608-1.jpg</td>\n",
       "      <td>39/112/398608-1.jpg</td>\n",
       "      <td>24</td>\n",
       "      <td>female</td>\n",
       "    </tr>\n",
       "  </tbody>\n",
       "</table>\n",
       "</div>"
      ],
      "text/plain": [
       "           file                 path  age  gender\n",
       "0  406208-0.jpg  39/112/406208-0.jpg   24  female\n",
       "1  470804-0.jpg  39/112/470804-0.jpg   24  female\n",
       "2  411657-2.jpg  39/112/411657-2.jpg   24  female\n",
       "3  471528-2.jpg  39/112/471528-2.jpg   24  female\n",
       "4  398608-1.jpg  39/112/398608-1.jpg   24  female"
      ]
     },
     "execution_count": 4,
     "metadata": {},
     "output_type": "execute_result"
    }
   ],
   "source": [
    "df_test = pd.read_csv('old_afad_test.csv')\n",
    "df_test.head()"
   ]
  },
  {
   "cell_type": "code",
   "execution_count": 5,
   "id": "3cea7deb",
   "metadata": {},
   "outputs": [],
   "source": [
    "df = pd.concat((df_train, df_valid, df_test))"
   ]
  },
  {
   "cell_type": "code",
   "execution_count": 6,
   "id": "15a2caa6",
   "metadata": {},
   "outputs": [],
   "source": [
    "df.to_csv('afad.csv', index=None)"
   ]
  },
  {
   "cell_type": "markdown",
   "id": "4db58e30",
   "metadata": {},
   "source": [
    "# Split"
   ]
  },
  {
   "cell_type": "code",
   "execution_count": 7,
   "id": "cb65dc56",
   "metadata": {},
   "outputs": [],
   "source": [
    "import numpy as np"
   ]
  },
  {
   "cell_type": "code",
   "execution_count": 8,
   "id": "c038f1ad",
   "metadata": {},
   "outputs": [
    {
     "data": {
      "text/plain": [
       "array([ 1251,  2423,  2482,  5585, 12477, 13232, 12560, 13572, 10510,\n",
       "       12891, 11261,  7676,  6481,  5170,  4730,  4806,  4456,  3996,\n",
       "        3701,  3856,  4246,  4234,  3898,  3798,  3791,  1335])"
      ]
     },
     "execution_count": 8,
     "metadata": {},
     "output_type": "execute_result"
    }
   ],
   "source": [
    "np.bincount(df['age'].values)"
   ]
  },
  {
   "cell_type": "code",
   "execution_count": 9,
   "id": "9da833a5",
   "metadata": {},
   "outputs": [],
   "source": [
    "indices = np.arange(df.shape[0])\n",
    "labels = df['age'].values"
   ]
  },
  {
   "cell_type": "code",
   "execution_count": 10,
   "id": "89053914",
   "metadata": {},
   "outputs": [],
   "source": [
    "from sklearn.model_selection import train_test_split\n",
    "\n",
    "\n",
    "indices_train, indices_test, labels_train, labels_test = train_test_split(\n",
    "    indices, labels, test_size=0.2, random_state=123, shuffle=True, stratify=labels)\n",
    "\n",
    "indices_train, indices_valid, labels_train, labels_valid = train_test_split(\n",
    "    indices_train, labels_train, test_size=0.05, random_state=123, shuffle=True, stratify=labels_train)"
   ]
  },
  {
   "cell_type": "code",
   "execution_count": 11,
   "id": "76230c56",
   "metadata": {},
   "outputs": [],
   "source": [
    "df_train = df.iloc[indices_train]\n",
    "df_train.to_csv('afad_train.csv', index=None)\n",
    "\n",
    "df_valid = df.iloc[indices_valid]\n",
    "df_valid.to_csv('afad_valid.csv', index=None)\n",
    "\n",
    "df_test = df.iloc[indices_test]\n",
    "df_test.to_csv('afad_test.csv', index=None)"
   ]
  },
  {
   "cell_type": "code",
   "execution_count": null,
   "id": "28cbc5df",
   "metadata": {},
   "outputs": [],
   "source": []
  }
 ],
 "metadata": {
  "kernelspec": {
   "display_name": "Python 3 (ipykernel)",
   "language": "python",
   "name": "python3"
  },
  "language_info": {
   "codemirror_mode": {
    "name": "ipython",
    "version": 3
   },
   "file_extension": ".py",
   "mimetype": "text/x-python",
   "name": "python",
   "nbconvert_exporter": "python",
   "pygments_lexer": "ipython3",
   "version": "3.9.6"
  }
 },
 "nbformat": 4,
 "nbformat_minor": 5
}
