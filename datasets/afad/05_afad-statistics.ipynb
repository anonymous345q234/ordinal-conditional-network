{
 "cells": [
  {
   "cell_type": "code",
   "execution_count": 2,
   "id": "21ff48c2",
   "metadata": {},
   "outputs": [],
   "source": [
    "import pandas as pd\n",
    "import matplotlib.pyplot as plt\n",
    "import numpy as np"
   ]
  },
  {
   "cell_type": "markdown",
   "id": "90710e85",
   "metadata": {},
   "source": [
    "## Original Datasets"
   ]
  },
  {
   "cell_type": "code",
   "execution_count": 4,
   "id": "aec497b3",
   "metadata": {},
   "outputs": [
    {
     "name": "stdout",
     "output_type": "stream",
     "text": [
      "Number of images: 124957\n",
      "Age label range: 0 - 25\n",
      "Real age range: 15 - 40\n"
     ]
    },
    {
     "data": {
      "image/png": "[encoded data removed]",
      "text/plain": [
       "<Figure size 432x288 with 1 Axes>"
      ]
     },
     "metadata": {
      "needs_background": "light"
     },
     "output_type": "display_data"
    }
   ],
   "source": [
    "df = pd.read_csv('../data/processed/afad/afad_train.csv')\n",
    "print(f\"Number of images: {df['age'].values.shape[0]}\")\n",
    "print(f\"Age label range: {df['age'].values.min()} - {df['age'].values.max() }\")\n",
    "print(f\"Real age range: {df['age'].values.min() + 15} - {df['age'].values.max() +15}\")\n",
    "plt.hist(df['age'].values, bins=np.arange(0, df['age'].values.max()+2))\n",
    "plt.show()"
   ]
  },
  {
   "cell_type": "code",
   "execution_count": 5,
   "id": "d7b4a42b",
   "metadata": {},
   "outputs": [
    {
     "name": "stdout",
     "output_type": "stream",
     "text": [
      "Number of images: 6577\n",
      "Age label range: 0 - 25\n",
      "Real age range: 15 - 40\n"
     ]
    },
    {
     "data": {
      "image/png": "[encoded data removed]",
      "text/plain": [
       "<Figure size 432x288 with 1 Axes>"
      ]
     },
     "metadata": {
      "needs_background": "light"
     },
     "output_type": "display_data"
    }
   ],
   "source": [
    "df = pd.read_csv('../data/processed/afad/afad_valid.csv')\n",
    "print(f\"Number of images: {df['age'].values.shape[0]}\")\n",
    "print(f\"Age label range: {df['age'].values.min()} - {df['age'].values.max() }\")\n",
    "print(f\"Real age range: {df['age'].values.min() + 15} - {df['age'].values.max() +15}\")\n",
    "plt.hist(df['age'].values, bins=np.arange(0, df['age'].values.max()+2))\n",
    "plt.show()"
   ]
  },
  {
   "cell_type": "code",
   "execution_count": 6,
   "id": "3855f4d8",
   "metadata": {},
   "outputs": [
    {
     "name": "stdout",
     "output_type": "stream",
     "text": [
      "Number of images: 32884\n",
      "Age label range: 0 - 25\n",
      "Real age range: 15 - 40\n"
     ]
    },
    {
     "data": {
      "image/png": "[encoded data removed]",
      "text/plain": [
       "<Figure size 432x288 with 1 Axes>"
      ]
     },
     "metadata": {
      "needs_background": "light"
     },
     "output_type": "display_data"
    }
   ],
   "source": [
    "df = pd.read_csv('../data/processed/afad/afad_test.csv')\n",
    "print(f\"Number of images: {df['age'].values.shape[0]}\")\n",
    "print(f\"Age label range: {df['age'].values.min()} - {df['age'].values.max() }\")\n",
    "print(f\"Real age range: {df['age'].values.min() + 15} - {df['age'].values.max() +15}\")\n",
    "plt.hist(df['age'].values, bins=np.arange(0, df['age'].values.max()+2))\n",
    "plt.show()"
   ]
  },
  {
   "cell_type": "markdown",
   "id": "05332fb2",
   "metadata": {},
   "source": [
    "## Balanced Datasets"
   ]
  },
  {
   "cell_type": "code",
   "execution_count": 8,
   "id": "c05e41e7",
   "metadata": {},
   "outputs": [
    {
     "name": "stdout",
     "output_type": "stream",
     "text": [
      "Number of images: 46150\n",
      "Age label range: 3 - 15\n",
      "Real age range: 18 - 30\n"
     ]
    },
    {
     "data": {
      "image/png": "[encoded data removed]",
      "text/plain": [
       "<Figure size 432x288 with 1 Axes>"
      ]
     },
     "metadata": {
      "needs_background": "light"
     },
     "output_type": "display_data"
    }
   ],
   "source": [
    "df = pd.read_csv('../data/processed/afad/afad_train_balanced.csv')\n",
    "print(f\"Number of images: {df['age'].values.shape[0]}\")\n",
    "print(f\"Age label range: {df['age'].values.min() + 3} - {df['age'].values.max() + 3 }\")\n",
    "print(f\"Real age range: {df['age'].values.min() + 15 + 3} - {df['age'].values.max() + 15 + 3}\")\n",
    "plt.hist(df['age'].values, bins=np.arange(0, df['age'].values.max()+2))\n",
    "plt.show()"
   ]
  },
  {
   "cell_type": "code",
   "execution_count": 9,
   "id": "7b5d4d0d",
   "metadata": {},
   "outputs": [
    {
     "name": "stdout",
     "output_type": "stream",
     "text": [
      "Number of images: 2457\n",
      "Age label range: 3 - 15\n",
      "Real age range: 18 - 30\n"
     ]
    },
    {
     "data": {
      "image/png": "[encoded data removed]",
      "text/plain": [
       "<Figure size 432x288 with 1 Axes>"
      ]
     },
     "metadata": {
      "needs_background": "light"
     },
     "output_type": "display_data"
    }
   ],
   "source": [
    "df = pd.read_csv('../data/processed/afad/afad_valid_balanced.csv')\n",
    "print(f\"Number of images: {df['age'].values.shape[0]}\")\n",
    "print(f\"Age label range: {df['age'].values.min() + 3} - {df['age'].values.max() + 3 }\")\n",
    "print(f\"Real age range: {df['age'].values.min() + 15 + 3} - {df['age'].values.max() + 15 + 3}\")\n",
    "plt.hist(df['age'].values, bins=np.arange(0, df['age'].values.max()+2))\n",
    "plt.show()"
   ]
  },
  {
   "cell_type": "code",
   "execution_count": 10,
   "id": "a16850e3",
   "metadata": {},
   "outputs": [
    {
     "name": "stdout",
     "output_type": "stream",
     "text": [
      "Number of images: 12285\n",
      "Age label range: 3 - 15\n",
      "Real age range: 18 - 30\n"
     ]
    },
    {
     "data": {
      "image/png": "[encoded data removed]",
      "text/plain": [
       "<Figure size 432x288 with 1 Axes>"
      ]
     },
     "metadata": {
      "needs_background": "light"
     },
     "output_type": "display_data"
    }
   ],
   "source": [
    "df = pd.read_csv('../data/processed/afad/afad_test_balanced.csv')\n",
    "print(f\"Number of images: {df['age'].values.shape[0]}\")\n",
    "print(f\"Age label range: {df['age'].values.min() + 3} - {df['age'].values.max() + 3 }\")\n",
    "print(f\"Real age range: {df['age'].values.min() + 15 + 3} - {df['age'].values.max() + 15 + 3}\")\n",
    "plt.hist(df['age'].values, bins=np.arange(0, df['age'].values.max()+2))\n",
    "plt.show()"
   ]
  }
 ],
 "metadata": {
  "kernelspec": {
   "display_name": "Python 3",
   "language": "python",
   "name": "python3"
  },
  "language_info": {
   "codemirror_mode": {
    "name": "ipython",
    "version": 3
   },
   "file_extension": ".py",
   "mimetype": "text/x-python",
   "name": "python",
   "nbconvert_exporter": "python",
   "pygments_lexer": "ipython3",
   "version": "3.9.2"
  }
 },
 "nbformat": 4,
 "nbformat_minor": 5
}
