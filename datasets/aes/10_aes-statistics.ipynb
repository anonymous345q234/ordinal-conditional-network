{
 "cells": [
  {
   "cell_type": "code",
   "execution_count": 1,
   "id": "21ff48c2",
   "metadata": {},
   "outputs": [],
   "source": [
    "import pandas as pd\n",
    "import matplotlib.pyplot as plt\n",
    "import numpy as np"
   ]
  },
  {
   "cell_type": "markdown",
   "id": "90710e85",
   "metadata": {},
   "source": [
    "## Original Datasets"
   ]
  },
  {
   "cell_type": "code",
   "execution_count": 2,
   "id": "aec497b3",
   "metadata": {},
   "outputs": [
    {
     "name": "stdout",
     "output_type": "stream",
     "text": [
      "Number of imbeauty_scoress: 11093\n",
      "beauty_scores label range: 0 - 4\n",
      "Real beauty_scores range: 1 - 5\n"
     ]
    },
    {
     "data": {
      "image/png": "[encoded data removed]",
      "text/plain": [
       "<Figure size 432x288 with 1 Axes>"
      ]
     },
     "metadata": {
      "needs_background": "light"
     },
     "output_type": "display_data"
    }
   ],
   "source": [
    "df = pd.read_csv('aes_train.csv')\n",
    "print(f\"Number of imbeauty_scoress: {df['beauty_scores'].values.shape[0]}\")\n",
    "print(f\"beauty_scores label range: {df['beauty_scores'].values.min()} - {df['beauty_scores'].values.max() }\")\n",
    "print(f\"Real beauty_scores range: {df['beauty_scores'].values.min() + 1} - {df['beauty_scores'].values.max() +1}\")\n",
    "plt.hist(df['beauty_scores'].values, bins=np.arange(0, df['beauty_scores'].values.max()+1))\n",
    "plt.show()"
   ]
  },
  {
   "cell_type": "code",
   "execution_count": 3,
   "id": "d7b4a42b",
   "metadata": {},
   "outputs": [
    {
     "name": "stdout",
     "output_type": "stream",
     "text": [
      "Number of imbeauty_scoress: 693\n",
      "beauty_scores label range: 0 - 4\n",
      "Real beauty_scores range: 1 - 5\n"
     ]
    },
    {
     "data": {
      "image/png": "[encoded data removed]",
      "text/plain": [
       "<Figure size 432x288 with 1 Axes>"
      ]
     },
     "metadata": {
      "needs_background": "light"
     },
     "output_type": "display_data"
    }
   ],
   "source": [
    "df = pd.read_csv('aes_valid.csv')\n",
    "print(f\"Number of imbeauty_scoress: {df['beauty_scores'].values.shape[0]}\")\n",
    "print(f\"beauty_scores label range: {df['beauty_scores'].values.min()} - {df['beauty_scores'].values.max() }\")\n",
    "print(f\"Real beauty_scores range: {df['beauty_scores'].values.min() + 1} - {df['beauty_scores'].values.max() +1}\")\n",
    "plt.hist(df['beauty_scores'].values, bins=np.arange(0, df['beauty_scores'].values.max()+1))\n",
    "plt.show()"
   ]
  },
  {
   "cell_type": "code",
   "execution_count": 4,
   "id": "3855f4d8",
   "metadata": {},
   "outputs": [
    {
     "name": "stdout",
     "output_type": "stream",
     "text": [
      "Number of imbeauty_scoress: 2081\n",
      "beauty_scores label range: 0 - 4\n",
      "Real beauty_scores range: 1 - 5\n"
     ]
    },
    {
     "data": {
      "image/png": "[encoded data removed]",
      "text/plain": [
       "<Figure size 432x288 with 1 Axes>"
      ]
     },
     "metadata": {
      "needs_background": "light"
     },
     "output_type": "display_data"
    }
   ],
   "source": [
    "df = pd.read_csv('aes_test.csv')\n",
    "print(f\"Number of imbeauty_scoress: {df['beauty_scores'].values.shape[0]}\")\n",
    "print(f\"beauty_scores label range: {df['beauty_scores'].values.min()} - {df['beauty_scores'].values.max() }\")\n",
    "print(f\"Real beauty_scores range: {df['beauty_scores'].values.min() + 1} - {df['beauty_scores'].values.max() +1}\")\n",
    "plt.hist(df['beauty_scores'].values, bins=np.arange(0, df['beauty_scores'].values.max()+1))\n",
    "plt.show()"
   ]
  },
  {
   "cell_type": "markdown",
   "id": "05332fb2",
   "metadata": {},
   "source": [
    "## Balanced Datasets"
   ]
  },
  {
   "cell_type": "code",
   "execution_count": 5,
   "id": "c05e41e7",
   "metadata": {},
   "outputs": [
    {
     "name": "stdout",
     "output_type": "stream",
     "text": [
      "Number of imbeauty_scoress: 1494\n",
      "beauty_scores label range: 0 - 2\n",
      "Real beauty_scores range: 2 - 4\n"
     ]
    },
    {
     "data": {
      "image/png": "[encoded data removed]",
      "text/plain": [
       "<Figure size 432x288 with 1 Axes>"
      ]
     },
     "metadata": {
      "needs_background": "light"
     },
     "output_type": "display_data"
    }
   ],
   "source": [
    "df = pd.read_csv('aes_train_balanced.csv')\n",
    "print(f\"Number of imbeauty_scoress: {df['beauty_scores'].values.shape[0]}\")\n",
    "print(f\"beauty_scores label range: {df['beauty_scores'].values.min()} - {df['beauty_scores'].values.max() }\")\n",
    "print(f\"Real beauty_scores range: {df['beauty_scores'].values.min() + 1 +1} - {df['beauty_scores'].values.max() +1 +1}\")\n",
    "plt.hist(df['beauty_scores'].values, bins=np.arange(0, df['beauty_scores'].values.max()+1 +1))\n",
    "plt.show()"
   ]
  },
  {
   "cell_type": "code",
   "execution_count": 6,
   "id": "7b5d4d0d",
   "metadata": {},
   "outputs": [
    {
     "name": "stdout",
     "output_type": "stream",
     "text": [
      "Number of imbeauty_scoress: 78\n",
      "beauty_scores label range: 0 - 2\n",
      "Real beauty_scores range: 2 - 4\n"
     ]
    },
    {
     "data": {
      "image/png": "[encoded data removed]",
      "text/plain": [
       "<Figure size 432x288 with 1 Axes>"
      ]
     },
     "metadata": {
      "needs_background": "light"
     },
     "output_type": "display_data"
    }
   ],
   "source": [
    "df = pd.read_csv('aes_valid_balanced.csv')\n",
    "print(f\"Number of imbeauty_scoress: {df['beauty_scores'].values.shape[0]}\")\n",
    "print(f\"beauty_scores label range: {df['beauty_scores'].values.min()} - {df['beauty_scores'].values.max() }\")\n",
    "print(f\"Real beauty_scores range: {df['beauty_scores'].values.min() + 1 +1} - {df['beauty_scores'].values.max() +1 +1}\")\n",
    "plt.hist(df['beauty_scores'].values, bins=np.arange(0, df['beauty_scores'].values.max()+1 +1))\n",
    "plt.show()"
   ]
  },
  {
   "cell_type": "code",
   "execution_count": 7,
   "id": "a16850e3",
   "metadata": {},
   "outputs": [
    {
     "name": "stdout",
     "output_type": "stream",
     "text": [
      "Number of imbeauty_scoress: 288\n",
      "beauty_scores label range: 0 - 2\n",
      "Real beauty_scores range: 2 - 4\n"
     ]
    },
    {
     "data": {
      "image/png": "[encoded data removed]",
      "text/plain": [
       "<Figure size 432x288 with 1 Axes>"
      ]
     },
     "metadata": {
      "needs_background": "light"
     },
     "output_type": "display_data"
    }
   ],
   "source": [
    "df = pd.read_csv('aes_test_balanced.csv')\n",
    "print(f\"Number of imbeauty_scoress: {df['beauty_scores'].values.shape[0]}\")\n",
    "print(f\"beauty_scores label range: {df['beauty_scores'].values.min()} - {df['beauty_scores'].values.max() }\")\n",
    "print(f\"Real beauty_scores range: {df['beauty_scores'].values.min() + 1 +1} - {df['beauty_scores'].values.max() +1 +1}\")\n",
    "plt.hist(df['beauty_scores'].values, bins=np.arange(0, df['beauty_scores'].values.max()+1 +1))\n",
    "plt.show()"
   ]
  },
  {
   "cell_type": "code",
   "execution_count": null,
   "id": "9b9d73b5-85fb-4cad-8602-19a224f68495",
   "metadata": {},
   "outputs": [],
   "source": []
  }
 ],
 "metadata": {
  "kernelspec": {
   "display_name": "Python 3 (ipykernel)",
   "language": "python",
   "name": "python3"
  },
  "language_info": {
   "codemirror_mode": {
    "name": "ipython",
    "version": 3
   },
   "file_extension": ".py",
   "mimetype": "text/x-python",
   "name": "python",
   "nbconvert_exporter": "python",
   "pygments_lexer": "ipython3",
   "version": "3.9.6"
  }
 },
 "nbformat": 4,
 "nbformat_minor": 5
}
